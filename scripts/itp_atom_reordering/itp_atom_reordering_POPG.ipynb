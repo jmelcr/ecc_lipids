{
 "cells": [
  {
   "cell_type": "code",
   "execution_count": 1,
   "metadata": {},
   "outputs": [],
   "source": [
    "import pmx, pmx.forcefield\n",
    "#import MDAnalysis as mda"
   ]
  },
  {
   "cell_type": "code",
   "execution_count": 2,
   "metadata": {},
   "outputs": [],
   "source": [
    "base_dir = '/coarse/josef/ecc_lipids/topologies/'\n",
    "itp_reorder_fname = base_dir+\"lipid17/lipid17-POPG_amber-atomic-names_and_order_palmit-renamed.itp\"\n",
    "script_mapping_dir = base_dir+\"../scripts/atomic_partial_charges_compar_plot_l14_slipids_C36/\"\n",
    "itp_reference_fname = base_dir+\"Charmm36/POPG.itp\""
   ]
  },
  {
   "cell_type": "code",
   "execution_count": 3,
   "metadata": {},
   "outputs": [],
   "source": [
    "# ITP to be reordered\n",
    "top_reorder = pmx.forcefield.ITPFile(fname=itp_reorder_fname)\n",
    "# converts atom indices (as read from ITP file) \n",
    "# into corresponding Atom instances\n",
    "# in all angles, dihedrals, bonds, vsites...\n",
    "top_reorder.id2atoms()\n",
    "\n",
    "# ITP of the reference (has correct ordering)\n",
    "top_reference = pmx.forcefield.ITPFile(fname=itp_reference_fname)"
   ]
  },
  {
   "cell_type": "code",
   "execution_count": 4,
   "metadata": {},
   "outputs": [],
   "source": [
    "# Directly taken from the script that compares partial charges of various POPC models\n",
    "\n",
    "def fetch_atom(mol, at_name):\n",
    "    \"\"\"\n",
    "    return the first occurence of an atom with a given name.\n",
    "    return the 1st atom if searched atom is not found.\n",
    "    \"\"\"\n",
    "    try:\n",
    "        found = False\n",
    "        for otherat in mol.atoms:\n",
    "            if otherat.name == at_name:\n",
    "                found = True\n",
    "                #print \"Found atom {atname}.\".format(atname=at_name)\n",
    "                return otherat\n",
    "    except:\n",
    "        print \"Something went wrong during atom searching (function fetch_atom). \\\n",
    "        \\nIs mol a pmx.forcefield.ITPfile object?\"\n",
    "    finally:\n",
    "        if not found:\n",
    "            print \"Atom {atname} not found! -- will substitute it with atom no.1.\".format(atname=at_name)\n",
    "            # so that there's no missing space in the sequence.\n",
    "            return mol.atoms[0]\n",
    "\n"
   ]
  },
  {
   "cell_type": "markdown",
   "metadata": {},
   "source": [
    "Beware!!\n",
    "---\n",
    "Lipid14 convention of naming atoms is different from any other model. It contains different atoms with same names -- the difference is made by assigning them a different residue name: [PC, palmitoyl, oleoyl].\n",
    "\n",
    "mapping_ab is hence ambiguous if the chains palmitoyl--oleoyl are not differenciated!\n",
    "\n",
    "Here I use a special differenciated version of atom naming convention that append letter \"p\" to every atom in palmitoyl chaing beginning with glycerol C1 carbon (carbon the palmitoyl is attached to)."
   ]
  },
  {
   "cell_type": "code",
   "execution_count": 5,
   "metadata": {},
   "outputs": [],
   "source": [
    "# Directly taken from the script that compares partial charges of various POPC models\n",
    "# with only minor modifications\n",
    "\n",
    "# translating A->B, so\n",
    "# B is a reference being a dictionary in order  FFname - Mapping_name\n",
    "# whereas A is being translated so a dictionary in opposite order is more practical\n",
    "# A: Mapping_name -> FFname\n",
    "# mappingPOPClipid14.txt -- works only for lipid14\n",
    "mapping_xa = {}\n",
    "with open(script_mapping_dir+\"mappingPOPClipid14_palmit.txt\",\"r\") as f:\n",
    "    for line in f.readlines():\n",
    "        if not line.startswith(\"#\"):\n",
    "            items = line.split()\n",
    "            mapping_xa[items[0]] = items[1]\n",
    "\n",
    "# mappingFILE.txt -- works for slipids & charmm\n",
    "mapping_bx = {}\n",
    "with open(script_mapping_dir+\"mappingFILE.txt\",\"r\") as f:\n",
    "    for line in f.readlines():\n",
    "        if not line.startswith(\"#\"):\n",
    "            items = line.split()\n",
    "            mapping_bx[items[1]] = items[0]\n",
    "\n",
    "# create dictionaries for transaltion from a->b\n",
    "mapping_ab = {}\n",
    "for key in mapping_bx.keys():\n",
    "    mapping_ab[mapping_xa[mapping_bx[key]]] = key\n",
    "\n",
    "mapping_ba = {}\n",
    "for key in mapping_bx.keys():\n",
    "    mapping_ba[key] = mapping_xa[mapping_bx[key]]\n"
   ]
  },
  {
   "cell_type": "markdown",
   "metadata": {},
   "source": [
    "This is and adaptation to DPPC of a previous ipython notebook for POPC\n",
    "\n",
    "so I have to add the extra hydrogen at the middle palmitoyl chain (sn-2) at its very end (carbon 16, C216)\n",
    "and also add the extra hydrogens at the former double bond (oleoyl -> palmitoyl)"
   ]
  },
  {
   "cell_type": "markdown",
   "metadata": {},
   "source": [
    "Sorting didn't end up well -- check for errors and correct!!\n",
    "=="
   ]
  },
  {
   "cell_type": "code",
   "execution_count": 6,
   "metadata": {},
   "outputs": [],
   "source": [
    "# This was for DPPC:\n",
    "#mapping_ab[\"H16T\"] = \"H16T\"\n",
    "#mapping_ab[\"H10R\"] = \"H10R\"\n",
    "#mapping_ab[\"H10S\"] = \"H10S\"\n",
    "#mapping_ab[\"H9R\"] = \"H9R\"\n",
    "#mapping_ab[\"H9S\"] = \"H9S\"\n",
    "\n",
    "# POPE:\n",
    "mapping_ab[\"HN1A\"] = \"HN1\"\n",
    "mapping_ab[\"HN1B\"] = \"HN2\"\n",
    "mapping_ab[\"HN1C\"] = \"HN3\"\n",
    "\n",
    "# POPS:\n",
    "# HR, HS belong to C1p in lipid17, but to C3 in charmm36 -- this was a mistake in an earlier version of this script!\n",
    "mapping_ab[\"HR\"] = \"HX\"\n",
    "mapping_ab[\"HS\"] = \"HY\"\n",
    "mapping_ab[\"C33\"] = \"C13\"\n",
    "#mapping_ab[\"O35\"] = \"O13A\"\n",
    "#mapping_ab[\"O36\"] = \"O13B\"\n",
    "\n",
    "# POPG:\n",
    "mapping_ab[\"HO5A\"] = \"HO2\"\n",
    "mapping_ab[\"HO6A\"] = \"HO3\"\n",
    "mapping_ab[\"C31\"] = \"C11\"\n",
    "mapping_ab[\"C32\"] = \"C12\"\n",
    "mapping_ab[\"C33\"] = \"C13\"\n",
    "mapping_ab[\"H3A\"] = \"H13A\"\n",
    "mapping_ab[\"H3B\"] = \"H13B\"\n",
    "mapping_ab[\"H1A\"] = \"H11A\"\n",
    "mapping_ab[\"H1B\"] = \"H11B\"\n",
    "mapping_ab[\"H2A\"] = \"H12A\"\n",
    "mapping_ab[\"O35\"] = \"OC2\"\n",
    "mapping_ab[\"O36\"] = \"OC3\"\n",
    "#mapping_ab[\"\"] = \"\"\n",
    "#mapping_ab[\"\"] = \"\"\n",
    "    \n",
    "\n"
   ]
  },
  {
   "cell_type": "code",
   "execution_count": 7,
   "metadata": {},
   "outputs": [],
   "source": [
    "for a in top_reorder.atoms:\n",
    "    a.resname = 'POPG'"
   ]
  },
  {
   "cell_type": "markdown",
   "metadata": {},
   "source": [
    "Simple solution: Converting conventions of atom naming using mapping files from Lipid14 -> Charmm36 convention"
   ]
  },
  {
   "cell_type": "code",
   "execution_count": 8,
   "metadata": {},
   "outputs": [],
   "source": [
    "# a simple solution to the problem using mapping_ab can be used \n",
    "# only after the differentiation of atom names \n",
    "# between palmitoyl/oleoyl chains in LIPID14 nomenclature\n",
    "top_reorder.atoms.sort(key=lambda a: fetch_atom(top_reference, mapping_ab[a.name]).id)\n",
    "for i,a in enumerate(top_reorder.atoms):\n",
    "    a.id = i+1"
   ]
  },
  {
   "cell_type": "code",
   "execution_count": 9,
   "metadata": {},
   "outputs": [],
   "source": [
    "top_reorder.write(base_dir+\"lipid17/lipid17-POPG_charmm36-reordered.itp\")"
   ]
  },
  {
   "cell_type": "markdown",
   "metadata": {},
   "source": [
    "Sorting the atoms of ECC-POPC according to the ordering of Charmm36 POPC"
   ]
  },
  {
   "cell_type": "code",
   "execution_count": 10,
   "metadata": {
    "scrolled": true
   },
   "outputs": [],
   "source": [
    "top_reorder.atoms.sort(key=lambda a: a.id)"
   ]
  },
  {
   "cell_type": "code",
   "execution_count": 11,
   "metadata": {},
   "outputs": [],
   "source": [
    "top_reorder.write(base_dir+\"lipid17/lipid17-POPG_charmm36-reordered_sort.itp\")"
   ]
  },
  {
   "cell_type": "markdown",
   "metadata": {},
   "source": [
    "GOOD! both topologies are the same!"
   ]
  },
  {
   "cell_type": "markdown",
   "metadata": {
    "collapsed": true
   },
   "source": [
    "Change also the atom names, so that the POPC lipid really looks like CHARMM36 lipid!"
   ]
  },
  {
   "cell_type": "code",
   "execution_count": 12,
   "metadata": {},
   "outputs": [],
   "source": [
    "# somewhat buggy renaming ???\n",
    "#for a in top_reference.atoms:\n",
    "#    #fetch_atom(top_reorder, mapping_ba[a.name]).id = a.id\n",
    "#    fetch_atom(top_reorder, mapping_ba[a.name]).name = a.name"
   ]
  },
  {
   "cell_type": "code",
   "execution_count": 13,
   "metadata": {
    "scrolled": true
   },
   "outputs": [],
   "source": [
    "#top_reorder.atoms.sort(key=lambda a: a.id)"
   ]
  },
  {
   "cell_type": "code",
   "execution_count": 14,
   "metadata": {},
   "outputs": [],
   "source": [
    "for i,a in enumerate(top_reference.atoms):\n",
    "    top_reorder.atoms[i].name = a.name"
   ]
  },
  {
   "cell_type": "code",
   "execution_count": 15,
   "metadata": {},
   "outputs": [],
   "source": [
    "top_reorder.write(base_dir+\"lipid17/lipid17-POPG_charmm36-atomic-names.itp\")"
   ]
  },
  {
   "cell_type": "markdown",
   "metadata": {
    "collapsed": true
   },
   "source": [
    "And now -- make a ECC-POPS by scaling it with 3/4!\n",
    "=="
   ]
  },
  {
   "cell_type": "code",
   "execution_count": 16,
   "metadata": {},
   "outputs": [],
   "source": [
    "# read the topology in again to correct for rounding errors\n",
    "top_ecc = pmx.forcefield.ITPFile(base_dir+\"lipid17/lipid17-POPG_charmm36-atomic-names.itp\")"
   ]
  },
  {
   "cell_type": "code",
   "execution_count": 17,
   "metadata": {},
   "outputs": [
    {
     "name": "stdout",
     "output_type": "stream",
     "text": [
      "scaled until atom id 37, which shall incorporate whole PG head group\n"
     ]
    }
   ],
   "source": [
    "for a in top_ecc.atoms:\n",
    "    # save the original charge in B-top field\n",
    "    a.qB = a.q\n",
    "    a.q *= 0.75\n",
    "    # only for the head group - i.e. until atom H2Y\n",
    "    if a.name=='H2Y': \n",
    "        print \"scaled until atom id {}, which shall incorporate whole PG head group\".format(a.id)\n",
    "        break"
   ]
  },
  {
   "cell_type": "code",
   "execution_count": 18,
   "metadata": {},
   "outputs": [
    {
     "name": "stdout",
     "output_type": "stream",
     "text": [
      "-0.72193675\n"
     ]
    }
   ],
   "source": [
    "qtot = 0.0\n",
    "for a in top_ecc.atoms:\n",
    "    qtot += a.q\n",
    "    \n",
    "print qtot"
   ]
  },
  {
   "cell_type": "code",
   "execution_count": 19,
   "metadata": {},
   "outputs": [
    {
     "name": "stdout",
     "output_type": "stream",
     "text": [
      "Atom O13A not found! -- will substitute it with atom no.1.\n",
      "0.07291875\n",
      "Atom O13B not found! -- will substitute it with atom no.1.\n",
      "0.07291875\n",
      "0.8624625\n"
     ]
    }
   ],
   "source": [
    "print fetch_atom(top_ecc, \"O13A\").q\n",
    "print fetch_atom(top_ecc, \"O13B\").q\n",
    "print fetch_atom(top_ecc, \"P\").q"
   ]
  },
  {
   "cell_type": "code",
   "execution_count": 20,
   "metadata": {},
   "outputs": [
    {
     "name": "stdout",
     "output_type": "stream",
     "text": [
      "P 0.8624625\n"
     ]
    }
   ],
   "source": [
    "q_extra = qtot+0.75\n",
    "\n",
    "for a in top_ecc.atoms:\n",
    "    if a.name in ['P', ]:\n",
    "        #a = fetch_atom(top_reference, atomname)\n",
    "        # subtracting extra excess charge from Carboxyl oxygen atoms equally\n",
    "        print a.name, a.q\n",
    "        a.q -= q_extra"
   ]
  },
  {
   "cell_type": "code",
   "execution_count": 21,
   "metadata": {},
   "outputs": [
    {
     "name": "stdout",
     "output_type": "stream",
     "text": [
      "-0.75\n"
     ]
    }
   ],
   "source": [
    "qtot = 0.0\n",
    "for a in top_ecc.atoms:\n",
    "    qtot += a.q\n",
    "    \n",
    "print qtot"
   ]
  },
  {
   "cell_type": "code",
   "execution_count": 22,
   "metadata": {},
   "outputs": [],
   "source": [
    "top_ecc.write(base_dir+\"lipid17/ECC-POPG_charmm36-atomic-names.itp\")"
   ]
  },
  {
   "cell_type": "markdown",
   "metadata": {},
   "source": [
    "small manual edit of the resulting file\n",
    "---\n",
    "correcting for charge round-up errors with manual edits to O13x charges adding 1e-6 to each of them (two)"
   ]
  },
  {
   "cell_type": "code",
   "execution_count": 23,
   "metadata": {},
   "outputs": [],
   "source": [
    "del(top_ecc)"
   ]
  },
  {
   "cell_type": "code",
   "execution_count": 24,
   "metadata": {},
   "outputs": [],
   "source": [
    "# read the topology in again to correct for rounding errors\n",
    "top_ecc = pmx.forcefield.ITPFile(base_dir+\"lipid17/ECC-POPG_charmm36-atomic-names.itp\")"
   ]
  },
  {
   "cell_type": "code",
   "execution_count": 25,
   "metadata": {},
   "outputs": [
    {
     "name": "stdout",
     "output_type": "stream",
     "text": [
      "-0.749997\n"
     ]
    }
   ],
   "source": [
    "qtot = 0.0\n",
    "for a in top_ecc.atoms:\n",
    "    qtot += a.q\n",
    "    \n",
    "print qtot"
   ]
  },
  {
   "cell_type": "code",
   "execution_count": null,
   "metadata": {},
   "outputs": [],
   "source": []
  }
 ],
 "metadata": {
  "kernelspec": {
   "display_name": "Python 2",
   "language": "python",
   "name": "python2"
  },
  "language_info": {
   "codemirror_mode": {
    "name": "ipython",
    "version": 2
   },
   "file_extension": ".py",
   "mimetype": "text/x-python",
   "name": "python",
   "nbconvert_exporter": "python",
   "pygments_lexer": "ipython2",
   "version": "2.7.15+"
  }
 },
 "nbformat": 4,
 "nbformat_minor": 1
}
