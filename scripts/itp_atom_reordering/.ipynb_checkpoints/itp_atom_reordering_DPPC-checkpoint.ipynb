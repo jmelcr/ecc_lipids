{
 "cells": [
  {
   "cell_type": "code",
   "execution_count": 1,
   "metadata": {
    "collapsed": true
   },
   "outputs": [],
   "source": [
    "import pmx, pmx.forcefield\n",
    "import MDAnalysis as mda"
   ]
  },
  {
   "cell_type": "code",
   "execution_count": 9,
   "metadata": {
    "collapsed": true
   },
   "outputs": [],
   "source": [
    "base_dir = '/mnt/ssd/NMRlipids_VI-NewIonModel/topologies/'\n",
    "itp_reorder_fname = base_dir+\"lipid14_popc_top/ECC-DPPC_amber-lipid14-atomic-names_palmit-atoms-renamed.itp\"\n",
    "script_mapping_dir = base_dir+\"../scripts/atomic_partial_charges_compar_plot_l14_slipids_C36/\"\n",
    "itp_reference_fname = base_dir+\"Charmm36/DPPC.itp\""
   ]
  },
  {
   "cell_type": "code",
   "execution_count": 24,
   "metadata": {},
   "outputs": [],
   "source": [
    "# ITP to be reordered\n",
    "top_reorder = pmx.forcefield.ITPFile(fname=itp_reorder_fname)\n",
    "# converts atom indices (as read from ITP file) \n",
    "# into corresponding Atom instances\n",
    "# in all angles, dihedrals, bonds, vsites...\n",
    "top_reorder.id2atoms()\n",
    "\n",
    "# ITP of the reference (has correct ordering)\n",
    "top_reference = pmx.forcefield.ITPFile(fname=itp_reference_fname)"
   ]
  },
  {
   "cell_type": "code",
   "execution_count": 11,
   "metadata": {
    "collapsed": true
   },
   "outputs": [],
   "source": [
    "# Directly taken from the script that compares partial charges of various POPC models\n",
    "\n",
    "def fetch_atom(mol, at_name):\n",
    "    \"\"\"\n",
    "    return the first occurence of an atom with a given name.\n",
    "    return the 1st atom if searched atom is not found.\n",
    "    \"\"\"\n",
    "    try:\n",
    "        found = False\n",
    "        for otherat in mol.atoms:\n",
    "            if otherat.name == at_name:\n",
    "                found = True\n",
    "                #print \"Found atom {atname}.\".format(atname=at_name)\n",
    "                return otherat\n",
    "    except:\n",
    "        print \"Something went wrong during atom searching (function fetch_atom). \\\n",
    "        \\nIs mol a pmx.forcefield.ITPfile object?\"\n",
    "    finally:\n",
    "        if not found:\n",
    "            print \"Atom {atname} not found! -- will substitute it with atom no.1.\".format(atname=at_name)\n",
    "            # so that there's no missing space in the sequence.\n",
    "            return mol.atoms[0]\n",
    "\n"
   ]
  },
  {
   "cell_type": "markdown",
   "metadata": {},
   "source": [
    "Beware!!\n",
    "---\n",
    "Lipid14 convention of naming atoms is different from any other model. It contains different atoms with same names -- the difference is made by assigning them a different residue name: [PC, palmitoyl, oleoyl].\n",
    "\n",
    "mapping_ab is hence ambiguous if the chains palmitoyl--oleoyl are not differenciated!\n",
    "\n",
    "Here I use a special differenciated version of atom naming convention that append letter \"p\" to every atom in palmitoyl chaing beginning with glycerol C1 carbon (carbon the palmitoyl is attached to)."
   ]
  },
  {
   "cell_type": "code",
   "execution_count": 18,
   "metadata": {
    "collapsed": true
   },
   "outputs": [],
   "source": [
    "# Directly taken from the script that compares partial charges of various POPC models\n",
    "# with only minor modifications\n",
    "\n",
    "# translating A->B, so\n",
    "# B is a reference being a dictionary in order  FFname - Mapping_name\n",
    "# whereas A is being translated so a dictionary in opposite order is more practical\n",
    "# A: Mapping_name -> FFname\n",
    "# mappingPOPClipid14.txt -- works only for lipid14\n",
    "mapping_xa = {}\n",
    "with open(script_mapping_dir+\"mappingPOPClipid14_palmit.txt\",\"r\") as f:\n",
    "    for line in f.readlines():\n",
    "        if not line.startswith(\"#\"):\n",
    "            items = line.split()\n",
    "            mapping_xa[items[0]] = items[1]\n",
    "\n",
    "# mappingFILE.txt -- works for slipids & charmm\n",
    "mapping_bx = {}\n",
    "with open(script_mapping_dir+\"mappingFILE.txt\",\"r\") as f:\n",
    "    for line in f.readlines():\n",
    "        if not line.startswith(\"#\"):\n",
    "            items = line.split()\n",
    "            mapping_bx[items[1]] = items[0]\n",
    "\n",
    "# create dictionaries for transaltion from a->b\n",
    "mapping_ab = {}\n",
    "for key in mapping_bx.keys():\n",
    "    mapping_ab[mapping_xa[mapping_bx[key]]] = key\n",
    "\n",
    "mapping_ba = {}\n",
    "for key in mapping_bx.keys():\n",
    "    mapping_ba[key] = mapping_xa[mapping_bx[key]]\n"
   ]
  },
  {
   "cell_type": "markdown",
   "metadata": {},
   "source": [
    "This is and adaptation to DPPC of a previous ipython notebook for POPC\n",
    "\n",
    "so I have to add the extra hydrogen at the middle palmitoyl chain (sn-2) at its very end (carbon 16, C216)\n",
    "and also add the extra hydrogens at the former double bond (oleoyl -> palmitoyl)"
   ]
  },
  {
   "cell_type": "code",
   "execution_count": 38,
   "metadata": {
    "collapsed": true
   },
   "outputs": [],
   "source": [
    "mapping_ab[\"H16T\"] = \"H16T\"\n",
    "mapping_ab[\"H10R\"] = \"H10R\"\n",
    "mapping_ab[\"H10S\"] = \"H10S\"\n",
    "mapping_ab[\"H9R\"] = \"H9R\"\n",
    "mapping_ab[\"H9S\"] = \"H9S\""
   ]
  },
  {
   "cell_type": "markdown",
   "metadata": {},
   "source": [
    "Simple solution: Converting conventions of atom naming using mapping files from Lipid14 -> Charmm36 convention"
   ]
  },
  {
   "cell_type": "code",
   "execution_count": 39,
   "metadata": {},
   "outputs": [],
   "source": [
    "# a simple solution to the problem using mapping_ab can be used \n",
    "# only after the differentiation of atom names \n",
    "# between palmitoyl/oleoyl chains in LIPID14 nomenclature\n",
    "top_reorder.atoms.sort(key=lambda a: fetch_atom(top_reference, mapping_ab[a.name]).id)\n",
    "for i,a in enumerate(top_reorder.atoms):\n",
    "    a.id = i+1"
   ]
  },
  {
   "cell_type": "code",
   "execution_count": 40,
   "metadata": {
    "collapsed": true
   },
   "outputs": [],
   "source": [
    "top_reorder.write(\"ECC-DPPC_charmm36-reordered.itp\")"
   ]
  },
  {
   "cell_type": "markdown",
   "metadata": {},
   "source": [
    "Sorting the atoms of ECC-POPC according to the ordering of Charmm36 POPC"
   ]
  },
  {
   "cell_type": "code",
   "execution_count": 42,
   "metadata": {
    "collapsed": true,
    "scrolled": true
   },
   "outputs": [],
   "source": [
    "top_reorder.atoms.sort(key=lambda a: a.id)"
   ]
  },
  {
   "cell_type": "code",
   "execution_count": 44,
   "metadata": {
    "collapsed": true
   },
   "outputs": [],
   "source": [
    "top_reorder.write(\"ECC-DPPC_charmm36-reordered_sort.itp\")"
   ]
  },
  {
   "cell_type": "markdown",
   "metadata": {},
   "source": [
    "GOOD! both topologies are the same!"
   ]
  },
  {
   "cell_type": "markdown",
   "metadata": {
    "collapsed": true
   },
   "source": [
    "Change also the atom names, so that the POPC lipid really looks like CHARMM36 lipid!"
   ]
  },
  {
   "cell_type": "code",
   "execution_count": 11,
   "metadata": {
    "collapsed": true
   },
   "outputs": [],
   "source": [
    "# somewhat buggy renaming ???\n",
    "#for a in top_reference.atoms:\n",
    "#    #fetch_atom(top_reorder, mapping_ba[a.name]).id = a.id\n",
    "#    fetch_atom(top_reorder, mapping_ba[a.name]).name = a.name"
   ]
  },
  {
   "cell_type": "code",
   "execution_count": 12,
   "metadata": {
    "collapsed": true,
    "scrolled": true
   },
   "outputs": [],
   "source": [
    "#top_reorder.atoms.sort(key=lambda a: a.id)"
   ]
  },
  {
   "cell_type": "code",
   "execution_count": 45,
   "metadata": {
    "collapsed": true
   },
   "outputs": [],
   "source": [
    "for i,a in enumerate(top_reference.atoms):\n",
    "    top_reorder.atoms[i].name = a.name"
   ]
  },
  {
   "cell_type": "code",
   "execution_count": 46,
   "metadata": {
    "collapsed": true
   },
   "outputs": [],
   "source": [
    "top_reorder.write(\"ECC-DPPC_charmm36-atomic-names.itp\")"
   ]
  }
 ],
 "metadata": {
  "kernelspec": {
   "display_name": "Python 2",
   "language": "python",
   "name": "python2"
  },
  "language_info": {
   "codemirror_mode": {
    "name": "ipython",
    "version": 2
   },
   "file_extension": ".py",
   "mimetype": "text/x-python",
   "name": "python",
   "nbconvert_exporter": "python",
   "pygments_lexer": "ipython2",
   "version": "2.7.14"
  }
 },
 "nbformat": 4,
 "nbformat_minor": 1
}
